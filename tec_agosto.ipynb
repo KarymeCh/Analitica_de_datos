{
 "cells": [
  {
   "cell_type": "code",
   "execution_count": null,
   "id": "22140e42",
   "metadata": {
    "vscode": {
     "languageId": "plaintext"
    }
   },
   "outputs": [],
   "source": [
    "Este es un script agregado desde mi pc."
   ]
  }
 ],
 "metadata": {
  "language_info": {
   "name": "python"
  }
 },
 "nbformat": 4,
 "nbformat_minor": 5
}
